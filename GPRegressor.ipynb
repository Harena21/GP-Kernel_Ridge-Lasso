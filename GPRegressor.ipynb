{
 "cells": [
  {
   "cell_type": "code",
   "execution_count": 1,
   "id": "ffea1139",
   "metadata": {},
   "outputs": [],
   "source": [
    "import numpy as np\n",
    "from sklearn.datasets import load_diabetes\n",
    "from sklearn.model_selection import train_test_split\n",
    "from sklearn.preprocessing import StandardScaler\n",
    "from sklearn.gaussian_process.kernels import RBF\n",
    "from sklearn.gaussian_process import GaussianProcessRegressor"
   ]
  },
  {
   "cell_type": "code",
   "execution_count": 2,
   "id": "93f9cb32",
   "metadata": {},
   "outputs": [],
   "source": [
    "def rel_error(x, y):\n",
    "    \"\"\" returns relative error \"\"\"\n",
    "    return np.max(np.abs(x - y) / (np.maximum(1e-8, np.abs(x) + np.abs(y))))"
   ]
  },
  {
   "cell_type": "code",
   "execution_count": 3,
   "id": "99b1b3b7",
   "metadata": {},
   "outputs": [],
   "source": [
    "kernel = 1.0 * RBF(1.0)"
   ]
  },
  {
   "cell_type": "code",
   "execution_count": 4,
   "id": "03ef969a",
   "metadata": {},
   "outputs": [],
   "source": [
    "diabetes = load_diabetes()\n",
    "X,y = diabetes.data,diabetes.target\n",
    "X_train,X_test,Y_train,y_test = train_test_split(X,y,test_size=0.2)\n",
    "\n",
    "scaler = StandardScaler()\n",
    "X_train = scaler.fit_transform(X_train)\n",
    "X_test = scaler.transform(X_test)"
   ]
  },
  {
   "cell_type": "code",
   "execution_count": 5,
   "id": "bf67eb05",
   "metadata": {},
   "outputs": [],
   "source": [
    "# Kernel function\n",
    "def gaussian_kernel(a,b,sigma=1):\n",
    "    ''' GP squared exponential kernel/Gaussian Kernel Function\n",
    "    '''\n",
    "    sqdist = np.sum(a**2,1).reshape(-1,1) + np.sum(b**2,1) - 2*np.dot(a,b.T)\n",
    "    return np.exp(-.5*(1/sigma)*sqdist)"
   ]
  },
  {
   "cell_type": "code",
   "execution_count": 6,
   "id": "c2c96936",
   "metadata": {},
   "outputs": [],
   "source": [
    "class GausianProcessRegression():\n",
    "    ''' Gausian Process for linear regression without noise\n",
    "    '''\n",
    "    def __init__(self, kernel_ = gaussian_kernel):\n",
    "        self.K = kernel_\n",
    "        self.is_fitted = False \n",
    "        \n",
    "    def fit(self,X,Y):\n",
    "        '''Train model'''\n",
    "        N = X.shape[0]\n",
    "        # covariance matrix\n",
    "        self.X = X\n",
    "        self.y = Y\n",
    "        self.is_fitted = True\n",
    "        \n",
    "    def predict(self,X2):\n",
    "        \"\"\"\n",
    "        Calculate the posterior mean and covariance matrix for y2\n",
    "        based on the corresponding input X2, the observations (y1, X1), \n",
    "        and the prior kernel function and assuming mean prior µ1 = 0\n",
    "        \"\"\"\n",
    "        if self.is_fitted == False:\n",
    "            print(\"Please fit before predict.\")\n",
    "            return\n",
    "        \n",
    "        # Kernel of the observations\n",
    "        Σ11 = self.K(self.X, self.X)\n",
    "\n",
    "        # Kernel of observations vs to-predict\n",
    "        Σ12 = self.K(self.X, X2)\n",
    "\n",
    "        # Compute posterior mean\n",
    "        μ2 = Σ12.T.dot(np.linalg.inv(Σ11)) @ self.y\n",
    "\n",
    "        # Compute the posterior covariance\n",
    "        Σ22 = self.K(X2, X2)\n",
    "        Σ2 = Σ22 - (Σ12.T.dot(np.linalg.inv(Σ11)) @ Σ12)\n",
    "        \n",
    "        return µ2, Σ2\n",
    "     "
   ]
  },
  {
   "cell_type": "code",
   "execution_count": 7,
   "id": "88d237e4",
   "metadata": {},
   "outputs": [],
   "source": [
    "# Train model \n",
    "GP = GausianProcessRegression()\n",
    "GP.fit(X_train,Y_train)\n",
    "# Test model \n",
    "mu,sigma = GP.predict(X_test)"
   ]
  },
  {
   "cell_type": "code",
   "execution_count": 8,
   "id": "f0ffaf2d",
   "metadata": {},
   "outputs": [],
   "source": [
    "# Train model sklearn\n",
    "sk_model = GaussianProcessRegressor(kernel=kernel,random_state=0)\n",
    "sk_model.fit(X_train, Y_train)\n",
    "# Test model sklearn\n",
    "sk_mu_pred,sk_sigma = sk_model.predict(X_test,return_cov=True)"
   ]
  },
  {
   "cell_type": "code",
   "execution_count": 9,
   "id": "409af5bf",
   "metadata": {},
   "outputs": [
    {
     "name": "stdout",
     "output_type": "stream",
     "text": [
      "prediction error:  2.4544850856987885e-10\n"
     ]
    }
   ],
   "source": [
    "mu_error = rel_error(mu, sk_mu_pred)\n",
    "print(\"prediction error: \", mu_error)"
   ]
  },
  {
   "cell_type": "code",
   "execution_count": 10,
   "id": "8d3253b1",
   "metadata": {},
   "outputs": [
    {
     "name": "stdout",
     "output_type": "stream",
     "text": [
      "prediction error:  2.462850849631284e-07\n"
     ]
    }
   ],
   "source": [
    "sigma_error = rel_error(sigma, sk_sigma)\n",
    "print(\"prediction error: \", sigma_error)"
   ]
  },
  {
   "cell_type": "code",
   "execution_count": null,
   "id": "6ae7e084",
   "metadata": {},
   "outputs": [],
   "source": []
  }
 ],
 "metadata": {
  "kernelspec": {
   "display_name": "Python 3",
   "language": "python",
   "name": "python3"
  },
  "language_info": {
   "codemirror_mode": {
    "name": "ipython",
    "version": 3
   },
   "file_extension": ".py",
   "mimetype": "text/x-python",
   "name": "python",
   "nbconvert_exporter": "python",
   "pygments_lexer": "ipython3",
   "version": "3.8.8"
  }
 },
 "nbformat": 4,
 "nbformat_minor": 5
}
