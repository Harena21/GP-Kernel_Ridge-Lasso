{
 "cells": [
  {
   "cell_type": "markdown",
   "id": "d16fcae5",
   "metadata": {},
   "source": [
    "Before you turn this problem in, make sure everything runs as expected. First, **restart the kernel** (in the menubar, select Kernel$\\rightarrow$Restart) and then **run all cells** (in the menubar, select Cell$\\rightarrow$Run All).\n",
    "\n",
    "Make sure you fill in any place that says `YOUR CODE HERE` or \"YOUR ANSWER HERE\", as well as your name and collaborators below:"
   ]
  },
  {
   "cell_type": "markdown",
   "id": "bc4e3639",
   "metadata": {},
   "source": [
    "---"
   ]
  },
  {
   "cell_type": "code",
   "execution_count": 1,
   "id": "ab42c33c",
   "metadata": {
    "deletable": false,
    "editable": false,
    "nbgrader": {
     "cell_type": "code",
     "checksum": "e1e2e40465642c4fdf199b183cad1aca",
     "grade": false,
     "grade_id": "cell-38b4529793385ad1",
     "locked": true,
     "schema_version": 3,
     "solution": false,
     "task": false
    }
   },
   "outputs": [],
   "source": [
    "from random import randrange\n",
    "import numpy as np\n",
    "from sklearn.metrics import mean_squared_error, log_loss\n",
    "from sklearn.datasets import load_breast_cancer, load_diabetes\n",
    "from sklearn.linear_model import Lasso, LinearRegression\n",
    "from sklearn.preprocessing import normalize\n",
    "\n",
    "\n",
    "def grad_check_sparse(f, x, analytic_grad, num_checks=10, h=1e-5, error=1e-9):\n",
    "    \"\"\"\n",
    "    sample a few random elements and only return numerical\n",
    "    in this dimensions\n",
    "    \"\"\"\n",
    "\n",
    "    for i in range(num_checks):\n",
    "        ix = tuple([randrange(m) for m in x.shape])\n",
    "\n",
    "        oldval = x[ix]\n",
    "        x[ix] = oldval + h  # increment by h\n",
    "        fxph = f(x)  # evaluate f(x + h)\n",
    "        x[ix] = oldval - h  # increment by h\n",
    "        fxmh = f(x)  # evaluate f(x - h)\n",
    "        x[ix] = oldval  # reset\n",
    "\n",
    "        grad_numerical = (fxph - fxmh) / (2 * h)\n",
    "        grad_analytic = analytic_grad[ix]\n",
    "        rel_error = abs(grad_numerical - grad_analytic) / (\n",
    "            abs(grad_numerical) + abs(grad_analytic)\n",
    "        )\n",
    "        print(\n",
    "            \"numerical: %f analytic: %f, relative error: %e\"\n",
    "            % (grad_numerical, grad_analytic, rel_error)\n",
    "        )\n",
    "        assert rel_error < error\n",
    "\n",
    "def rel_error(x, y):\n",
    "    \"\"\" returns relative error \"\"\"\n",
    "    return np.max(np.abs(x - y) / (np.maximum(1e-8, np.abs(x) + np.abs(y))))"
   ]
  },
  {
   "cell_type": "code",
   "execution_count": 2,
   "id": "7d7abcf9",
   "metadata": {
    "deletable": false,
    "editable": false,
    "nbgrader": {
     "cell_type": "code",
     "checksum": "fece078db4194ca23bff4bd477484c9f",
     "grade": false,
     "grade_id": "cell-2d8d2723a816a3da",
     "locked": true,
     "schema_version": 3,
     "solution": false,
     "task": false
    }
   },
   "outputs": [],
   "source": [
    "data = load_diabetes()\n",
    "X, y = data.data, data.target"
   ]
  },
  {
   "cell_type": "code",
   "execution_count": 3,
   "id": "5c6b011f",
   "metadata": {
    "deletable": false,
    "nbgrader": {
     "cell_type": "code",
     "checksum": "4a58f8c2b00062e871c025fe26fd9f14",
     "grade": false,
     "grade_id": "cell-1528a28f467d90c7",
     "locked": false,
     "schema_version": 3,
     "solution": true,
     "task": false
    }
   },
   "outputs": [],
   "source": [
    "def mse_loss_vectorized(w, b, X, y):\n",
    "    \"\"\"\n",
    "    MSE loss function WITHOUT FOR LOOPs , NO REGULARIZATION\n",
    "    \n",
    "    Returns a tuple of:\n",
    "    - loss \n",
    "    - gradient with respect to weights w\n",
    "    - gradient with respect to bias b\n",
    "    \"\"\"\n",
    "    loss = 0.0\n",
    "    dw = np.zeros_like(w)\n",
    "    \n",
    "    # YOUR CODE HERE\n",
    "    m = X.shape[0]\n",
    "    \n",
    "    #dw\n",
    "    dw = -X.T.dot(y- (X.dot(w) + b))\n",
    "    \n",
    "    #db\n",
    "    db = (-1/m)*(np.sum(y - (X@w + b)))\n",
    "    \n",
    "    #loss\n",
    "    loss = (0.5/m)*(y - (np.dot(X,w) + b)).T.dot(y - (np.dot(X,w) + b))\n",
    "\n",
    "    return loss, dw, np.array(db).reshape(1,)"
   ]
  },
  {
   "cell_type": "code",
   "execution_count": 4,
   "id": "f698dab4",
   "metadata": {
    "deletable": false,
    "nbgrader": {
     "cell_type": "code",
     "checksum": "a555de4acfff6e4b6b10deedfcec8a97",
     "grade": false,
     "grade_id": "cell-0317c2a47220a71f",
     "locked": false,
     "schema_version": 3,
     "solution": true,
     "task": false
    }
   },
   "outputs": [],
   "source": [
    "def soft_threshold(x, delta):\n",
    "    # YOUR CODE HERE \n",
    "     if x > 0.0 and delta < abs(x):\n",
    "        return x - delta\n",
    "     elif x < 0.0 and delta < abs(x):\n",
    "        return x + delta\n",
    "     else:\n",
    "        return 0.0"
   ]
  },
  {
   "cell_type": "markdown",
   "id": "cfe3f35e",
   "metadata": {},
   "source": [
    "# Lasso Subgradient Descent"
   ]
  },
  {
   "cell_type": "code",
   "execution_count": 5,
   "id": "d2fdac6f",
   "metadata": {
    "deletable": false,
    "nbgrader": {
     "cell_type": "code",
     "checksum": "13377ad3c38d687f1097ea78e67e00d7",
     "grade": false,
     "grade_id": "cell-1f9c055ff5b25c0e",
     "locked": false,
     "schema_version": 3,
     "solution": true,
     "task": false
    }
   },
   "outputs": [],
   "source": [
    "def l1_subgradient(w):\n",
    "    \"\"\"\n",
    "    Subgradient of the L1 loss\n",
    "    \"\"\"\n",
    "    dw = np.zeros_like(w)\n",
    "    # YOUR CODE HERE\n",
    "    #\"\"\"https://ee227c.github.io/code/lecture4.html\"\"\"\n",
    "    dw[ w > 0.] = 1.0\n",
    "    dw[w < 0.] = -1.0\n",
    "    \n",
    "    return dw\n",
    "    \n",
    "\n",
    "def lasso_subgradient_mse_loss_vectorized(w, b, X, y, alpha):\n",
    "    \"\"\"\n",
    "    MSE loss function adding the subgradient for w\n",
    "    \"\"\"\n",
    "    loss, dw, db = mse_loss_vectorized(w, b, X, y)\n",
    "    # Add the subgradient to dw\n",
    "    # YOUR CODE HERE\n",
    "    dw -= alpha*l1_subgradient(w)\n",
    "    return loss, dw, db"
   ]
  },
  {
   "cell_type": "code",
   "execution_count": 6,
   "id": "fdfaa3d7",
   "metadata": {
    "deletable": false,
    "nbgrader": {
     "cell_type": "code",
     "checksum": "8f147544f1239cc3a8b31c9de6b9df0d",
     "grade": false,
     "grade_id": "cell-10e416072a8b14f8",
     "locked": false,
     "schema_version": 3,
     "solution": true,
     "task": false
    }
   },
   "outputs": [],
   "source": [
    "class LassolSubgradientDescent():\n",
    "    def __init__(self,  alpha=0.1):\n",
    "        self.w = None\n",
    "        self.b = None\n",
    "        self.alpha = alpha\n",
    "\n",
    "    def train(self, X, y, learning_rate=1e-3, num_iters=100, batch_size=200, verbose=False):\n",
    "        N, d = X.shape\n",
    "        \n",
    "        if self.w is None: # Initialization\n",
    "            self.w = 0.001 * np.random.randn(d)\n",
    "            self.b = 0.0\n",
    "\n",
    "        # Run stochastic gradient descent to optimize w\n",
    "        \n",
    "        loss_history = []\n",
    "        for it in range(num_iters):\n",
    "            X_batch = None\n",
    "            y_batch = None\n",
    "                                                               \n",
    "            # Sample batch_size elements in X_batch and y_batch\n",
    "            # X_batch shape is  (batch_size, d) and y_batch shape is (batch_size,)                                                                                          \n",
    "            # Hint: Use np.random.choice to generate indices\n",
    "            # YOUR CODE HERE\n",
    "            choice = np.random.choice(N, batch_size, replace=False)\n",
    "\n",
    "            X_batch = X[choice,:]\n",
    "            y_batch = y[choice]\n",
    "            \n",
    "            # evaluate loss and gradient\n",
    "            loss, dw, db = self.loss(X_batch, y_batch)\n",
    "\n",
    "            # perform parameter update                                                                \n",
    "            # Update the weights w using the gradient and the learning rate.  \n",
    "            # YOUR CODE HERE\n",
    "            self.w = self.w - learning_rate * dw\n",
    "            self.b = self.b - learning_rate * db\n",
    "            \n",
    "            if verbose and it % 10000 == 0:\n",
    "                print(\"iteration %d / %d: loss %f\" % (it, num_iters, loss))\n",
    "    \n",
    "    \n",
    "    def predict(self, X):\n",
    "        # YOUR CODE HERE\n",
    "        return X@self.w + self.b\n",
    "        \n",
    "    def loss(self, X_batch, y_batch):\n",
    "        return lasso_subgradient_mse_loss_vectorized(self.w, self.b, X_batch, y_batch, self.alpha)"
   ]
  },
  {
   "cell_type": "code",
   "execution_count": 7,
   "id": "52e20f18",
   "metadata": {
    "deletable": false,
    "editable": false,
    "nbgrader": {
     "cell_type": "code",
     "checksum": "afc1e003d52538e82629ca2282c819ba",
     "grade": true,
     "grade_id": "cell-8a6c6c3fea10a22e",
     "locked": true,
     "points": 3,
     "schema_version": 3,
     "solution": false,
     "task": false
    }
   },
   "outputs": [
    {
     "name": "stdout",
     "output_type": "stream",
     "text": [
      "iteration 0 / 200000: loss 14967.029597\n",
      "iteration 10000 / 200000: loss 1376.791169\n",
      "iteration 20000 / 200000: loss 1366.143796\n",
      "iteration 30000 / 200000: loss 1471.742015\n",
      "iteration 40000 / 200000: loss 1529.706626\n",
      "iteration 50000 / 200000: loss 1315.018005\n",
      "iteration 60000 / 200000: loss 1435.839680\n",
      "iteration 70000 / 200000: loss 1497.426635\n",
      "iteration 80000 / 200000: loss 1288.874577\n",
      "iteration 90000 / 200000: loss 1443.260950\n",
      "iteration 100000 / 200000: loss 1420.882908\n",
      "iteration 110000 / 200000: loss 1443.866108\n",
      "iteration 120000 / 200000: loss 1356.703933\n",
      "iteration 130000 / 200000: loss 1479.992635\n",
      "iteration 140000 / 200000: loss 1486.527776\n",
      "iteration 150000 / 200000: loss 1532.219350\n",
      "iteration 160000 / 200000: loss 1242.267435\n",
      "iteration 170000 / 200000: loss 1355.711536\n",
      "iteration 180000 / 200000: loss 1483.244150\n",
      "iteration 190000 / 200000: loss 1527.738380\n",
      "MSE scikit-learn: 2912.521795117546\n",
      "MSE Coordinate descent model : 2860.0183446682395\n"
     ]
    }
   ],
   "source": [
    "model = LassolSubgradientDescent(alpha=0.1)\n",
    "model.train(X, y, learning_rate=1e-2,verbose=True, num_iters=200_000)\n",
    "pred = model.predict(X)\n",
    "mse = mean_squared_error(pred, y)\n",
    "\n",
    "sk_model = Lasso(alpha=0.1, fit_intercept=True)\n",
    "sk_model.fit(X, y)\n",
    "sk_pred = sk_model.predict(X)\n",
    "sk_mse = mean_squared_error(sk_pred, y)\n",
    "\n",
    "print(\"MSE scikit-learn:\", sk_mse)\n",
    "print(\"MSE Coordinate descent model :\", mse)\n",
    "assert mse - sk_mse < 50"
   ]
  },
  {
   "cell_type": "code",
   "execution_count": 8,
   "id": "2b9e02f8",
   "metadata": {
    "deletable": false,
    "editable": false,
    "nbgrader": {
     "cell_type": "code",
     "checksum": "5014aa1adfb704c0b9a8b597121bed85",
     "grade": true,
     "grade_id": "cell-67638b8b82d2ee79",
     "locked": true,
     "points": 3,
     "schema_version": 3,
     "solution": false,
     "task": false
    }
   },
   "outputs": [
    {
     "name": "stdout",
     "output_type": "stream",
     "text": [
      "iteration 0 / 200000: loss 14348.288153\n",
      "iteration 10000 / 200000: loss 1434.005624\n",
      "iteration 20000 / 200000: loss 1433.728920\n",
      "iteration 30000 / 200000: loss 1372.480914\n",
      "iteration 40000 / 200000: loss 1343.970349\n",
      "iteration 50000 / 200000: loss 1576.441652\n",
      "iteration 60000 / 200000: loss 1509.107407\n",
      "iteration 70000 / 200000: loss 1479.646915\n",
      "iteration 80000 / 200000: loss 1343.469659\n",
      "iteration 90000 / 200000: loss 1289.267340\n",
      "iteration 100000 / 200000: loss 1439.210068\n",
      "iteration 110000 / 200000: loss 1386.864419\n",
      "iteration 120000 / 200000: loss 1308.904845\n",
      "iteration 130000 / 200000: loss 1583.017535\n",
      "iteration 140000 / 200000: loss 1564.501024\n",
      "iteration 150000 / 200000: loss 1417.884652\n",
      "iteration 160000 / 200000: loss 1431.557229\n",
      "iteration 170000 / 200000: loss 1443.508218\n",
      "iteration 180000 / 200000: loss 1565.031677\n",
      "iteration 190000 / 200000: loss 1438.617900\n",
      "MSE scikit-learn: 5650.287416333697\n",
      "MSE Coordinate descent model : 2879.9876316283967\n"
     ]
    }
   ],
   "source": [
    "model = LassolSubgradientDescent(alpha=2)\n",
    "model.train(X, y, learning_rate=1e-2,verbose=True, num_iters=200_000)\n",
    "pred = model.predict(X)\n",
    "mse = mean_squared_error(pred, y)\n",
    "\n",
    "sk_model = Lasso(alpha=2, fit_intercept=True)\n",
    "sk_model.fit(X, y)\n",
    "sk_pred = sk_model.predict(X)\n",
    "sk_mse = mean_squared_error(sk_pred, y)\n",
    "\n",
    "print(\"MSE scikit-learn:\", sk_mse)\n",
    "print(\"MSE Coordinate descent model :\", mse)\n",
    "assert mse - sk_mse < 50"
   ]
  },
  {
   "cell_type": "markdown",
   "id": "cfec4298",
   "metadata": {},
   "source": [
    "# Lasso Proximal Gradient Descent (iterative soft thresholding algorithm or ISTA)"
   ]
  },
  {
   "cell_type": "code",
   "execution_count": 9,
   "id": "4ea93876",
   "metadata": {
    "deletable": false,
    "nbgrader": {
     "cell_type": "code",
     "checksum": "7b58bd5f2fe2a364683285cec3dae2e7",
     "grade": false,
     "grade_id": "cell-7a3567bcf30b2f18",
     "locked": false,
     "schema_version": 3,
     "solution": true,
     "task": false
    }
   },
   "outputs": [],
   "source": [
    "class LassoProximalGradientDescent():\n",
    "    def __init__(self,  alpha=0.1):\n",
    "        self.w = None\n",
    "        self.b = None\n",
    "        self.alpha = alpha\n",
    "\n",
    "    def train(self, X, y, learning_rate=1e-3, num_iters=100, batch_size=200, verbose=False):\n",
    "        N, d = X.shape\n",
    "        \n",
    "        if self.w is None: # Initialization\n",
    "            self.w = 0.001 * np.random.randn(d)\n",
    "            self.b = 0.0\n",
    "\n",
    "        # Run stochastic gradient descent to optimize w\n",
    "        \n",
    "        loss_history = []\n",
    "        for it in range(num_iters):\n",
    "            X_batch = None\n",
    "            y_batch = None\n",
    "                                                               \n",
    "            # Sample batch_size elements in X_batch and y_batch\n",
    "            # X_batch shape is  (batch_size, d) and y_batch shape is (batch_size,)                                                                                          \n",
    "            # Hint: Use np.random.choice to generate indices\n",
    "            # YOUR CODE HERE\n",
    "            choice = np.random.choice(N, batch_size, replace=False)\n",
    "\n",
    "            X_batch = X[choice,:]\n",
    "            y_batch = y[choice]\n",
    "            \n",
    "            # evaluate loss and gradient\n",
    "            loss, dw, db = self.loss(X_batch, y_batch)\n",
    "\n",
    "            # perform parameter update                                                                \n",
    "            # Update the weights w using the gradient and the learning rate.  \n",
    "            # PROJECT THE GRADIENT FOR w USING soft_threshold\n",
    "            # YOUR CODE HERE\n",
    "            for i in range(d):\n",
    "                dw[i] = soft_threshold(dw[i],self.alpha)\n",
    "                \n",
    "            self.w = self.w - learning_rate * dw\n",
    "            self.b = self.b - learning_rate * db\n",
    "            \n",
    "            if verbose and it % 10000 == 0:\n",
    "                print(\"iteration %d / %d: loss %f\" % (it, num_iters, loss))\n",
    "\n",
    "    def predict(self, X):\n",
    "        # YOUR CODE HERE\n",
    "        return X@self.w + self.b\n",
    "\n",
    "    def loss(self, X_batch, y_batch):\n",
    "        return mse_loss_vectorized(self.w, self.b, X_batch, y_batch)"
   ]
  },
  {
   "cell_type": "code",
   "execution_count": 10,
   "id": "9388e722",
   "metadata": {
    "deletable": false,
    "editable": false,
    "nbgrader": {
     "cell_type": "code",
     "checksum": "bc9f465d5c28afa8d682d76852df6218",
     "grade": true,
     "grade_id": "cell-e12e8a6bae8e7b5c",
     "locked": true,
     "points": 3,
     "schema_version": 3,
     "solution": false,
     "task": false
    }
   },
   "outputs": [
    {
     "name": "stdout",
     "output_type": "stream",
     "text": [
      "iteration 0 / 200000: loss 13896.233224\n",
      "iteration 10000 / 200000: loss 1324.549732\n",
      "iteration 20000 / 200000: loss 1280.674386\n",
      "iteration 30000 / 200000: loss 1395.352993\n",
      "iteration 40000 / 200000: loss 1427.018531\n",
      "iteration 50000 / 200000: loss 1635.360648\n",
      "iteration 60000 / 200000: loss 1334.378618\n",
      "iteration 70000 / 200000: loss 1385.074723\n",
      "iteration 80000 / 200000: loss 1368.708933\n",
      "iteration 90000 / 200000: loss 1336.274407\n",
      "iteration 100000 / 200000: loss 1379.033838\n",
      "iteration 110000 / 200000: loss 1385.268406\n",
      "iteration 120000 / 200000: loss 1435.908773\n",
      "iteration 130000 / 200000: loss 1292.342501\n",
      "iteration 140000 / 200000: loss 1330.928126\n",
      "iteration 150000 / 200000: loss 1328.559512\n",
      "iteration 160000 / 200000: loss 1407.426431\n",
      "iteration 170000 / 200000: loss 1468.953572\n",
      "iteration 180000 / 200000: loss 1545.497176\n",
      "iteration 190000 / 200000: loss 1299.575273\n",
      "MSE scikit-learn: 2912.521795117546\n",
      "MSE Coordinate descent model : 2860.189268425761\n"
     ]
    }
   ],
   "source": [
    "model = LassoProximalGradientDescent(alpha=0.1)\n",
    "model.train(X, y, learning_rate=1e-2,verbose=True, num_iters=200_000)\n",
    "pred = model.predict(X)\n",
    "mse= mean_squared_error(pred, y)\n",
    "\n",
    "sk_model = Lasso(alpha=0.1, fit_intercept=True)\n",
    "sk_model.fit(X, y)\n",
    "sk_pred = sk_model.predict(X)\n",
    "sk_mse = mean_squared_error(sk_pred, y)\n",
    "\n",
    "print(\"MSE scikit-learn:\", sk_mse)\n",
    "print(\"MSE Coordinate descent model :\", mse)\n",
    "assert mse - sk_mse < 50"
   ]
  },
  {
   "cell_type": "code",
   "execution_count": 11,
   "id": "6d7726b1",
   "metadata": {
    "deletable": false,
    "editable": false,
    "nbgrader": {
     "cell_type": "code",
     "checksum": "492b972e858ad56355406357894884a3",
     "grade": true,
     "grade_id": "cell-a25ecff481c69c72",
     "locked": true,
     "points": 3,
     "schema_version": 3,
     "solution": false,
     "task": false
    }
   },
   "outputs": [
    {
     "name": "stdout",
     "output_type": "stream",
     "text": [
      "iteration 0 / 200000: loss 14638.814970\n",
      "iteration 10000 / 200000: loss 1747.430130\n",
      "iteration 20000 / 200000: loss 1359.873052\n",
      "iteration 30000 / 200000: loss 1481.449059\n",
      "iteration 40000 / 200000: loss 1453.893251\n",
      "iteration 50000 / 200000: loss 1583.539399\n",
      "iteration 60000 / 200000: loss 1247.224132\n",
      "iteration 70000 / 200000: loss 1477.940860\n",
      "iteration 80000 / 200000: loss 1426.332999\n",
      "iteration 90000 / 200000: loss 1432.388151\n",
      "iteration 100000 / 200000: loss 1356.193316\n",
      "iteration 110000 / 200000: loss 1397.572478\n",
      "iteration 120000 / 200000: loss 1375.517543\n",
      "iteration 130000 / 200000: loss 1485.438159\n",
      "iteration 140000 / 200000: loss 1334.993870\n",
      "iteration 150000 / 200000: loss 1420.472760\n",
      "iteration 160000 / 200000: loss 1316.556200\n",
      "iteration 170000 / 200000: loss 1471.052425\n",
      "iteration 180000 / 200000: loss 1402.916835\n",
      "iteration 190000 / 200000: loss 1205.538795\n",
      "MSE scikit-learn: 5650.287416333697\n",
      "MSE Coordinate descent model : 2859.8705719977543\n"
     ]
    }
   ],
   "source": [
    "model = LassoProximalGradientDescent(alpha=2)\n",
    "model.train(X, y, learning_rate=1e-2,verbose=True, num_iters=200_000)\n",
    "pred = model.predict(X)\n",
    "mse= mean_squared_error(pred, y)\n",
    "\n",
    "sk_model = Lasso(alpha=2, fit_intercept=True)\n",
    "sk_model.fit(X, y)\n",
    "sk_pred = sk_model.predict(X)\n",
    "sk_mse = mean_squared_error(sk_pred, y)\n",
    "\n",
    "print(\"MSE scikit-learn:\", sk_mse)\n",
    "print(\"MSE Coordinate descent model :\", mse)\n",
    "assert mse - sk_mse < 50"
   ]
  },
  {
   "cell_type": "markdown",
   "id": "cfcd57e0",
   "metadata": {},
   "source": [
    "# Lasso Projected Gradient Descent"
   ]
  },
  {
   "cell_type": "code",
   "execution_count": 12,
   "id": "1c0645e8",
   "metadata": {
    "deletable": false,
    "nbgrader": {
     "cell_type": "code",
     "checksum": "aa6df72eb9b273f99ec243c076780b62",
     "grade": false,
     "grade_id": "cell-f3bad6c8edcb61e4",
     "locked": false,
     "schema_version": 3,
     "solution": true,
     "task": false
    }
   },
   "outputs": [],
   "source": [
    "class LassoProjectedGradientDescent():\n",
    "    def __init__(self,  alpha=0.1):\n",
    "        self.w_p = None\n",
    "        self.w_n = None\n",
    "        self.b = None\n",
    "        self.alpha = alpha\n",
    "\n",
    "    def train(self, X, y, learning_rate=1e-3, num_iters=100, batch_size=200, verbose=False):\n",
    "        N, d = X.shape\n",
    "        \n",
    "        if self.w_p is None: # Initialization\n",
    "            self.w_p = 0.001 * np.random.randn(d)\n",
    "            self.w_n = 0.001 * np.random.randn(d)\n",
    "            self.b = 0.0\n",
    "\n",
    "        # Run stochastic gradient descent to optimize w\n",
    "        \n",
    "        loss_history = []\n",
    "        for it in range(num_iters):\n",
    "            X_batch = None\n",
    "            y_batch = None\n",
    "                                                               \n",
    "            # Sample batch_size elements in X_batch and y_batch\n",
    "            # X_batch shape is  (batch_size, d) and y_batch shape is (batch_size,)                                                                                          \n",
    "            # Hint: Use np.random.choice to generate indices\n",
    "            # YOUR CODE HERE\n",
    "            choice = np.random.choice(N, batch_size, replace=False)\n",
    "\n",
    "            X_batch = X[choice,:]\n",
    "            y_batch = y[choice]\n",
    "        \n",
    "            # evaluate loss and gradient\n",
    "            loss, dw, db = self.loss(X_batch, y_batch)\n",
    "\n",
    "            # perform parameter update                                                                \n",
    "            # Update the weights w using the gradient and the learning rate.  \n",
    "            # Project for w_p and w_n\n",
    "            # YOUR CODE HERE\n",
    "            \"\"\"https://github.com/lx10077/lasso/blob/master/project_gradient.py\"\"\"\n",
    "            grad_wp, grad_wn = dw + self.alpha, -dw + self.alpha\n",
    "            \n",
    "            self.w_p -= learning_rate * grad_wp\n",
    "            self.w_n -= learning_rate * grad_wn\n",
    "            self.w_p[self.w_p <= 0.] = 0.\n",
    "            self.w_n[self.w_n <= 0.] = 0.\n",
    "            \n",
    "            self.b = self.b - learning_rate*db\n",
    "            \n",
    "            if verbose and it % 10000 == 0:\n",
    "                print(\"iteration %d / %d: loss %f\" % (it, num_iters, loss))\n",
    "\n",
    "    def predict(self, X):\n",
    "        return X@(self.w_p - self.w_n) + self.b\n",
    "\n",
    "    def loss(self, X_batch, y_batch):\n",
    "        # YOUR CODE HERE\n",
    "        return mse_loss_vectorized(self.w_p-self.w_n, self.b, X_batch, y_batch)"
   ]
  },
  {
   "cell_type": "code",
   "execution_count": 13,
   "id": "40763f91",
   "metadata": {
    "deletable": false,
    "editable": false,
    "nbgrader": {
     "cell_type": "code",
     "checksum": "61b4a80e91fed67c73a22e3f23a7be0b",
     "grade": true,
     "grade_id": "cell-ab833ef2fbf36bc3",
     "locked": true,
     "points": 3,
     "schema_version": 3,
     "solution": false,
     "task": false
    }
   },
   "outputs": [
    {
     "name": "stdout",
     "output_type": "stream",
     "text": [
      "iteration 0 / 200000: loss 14197.784293\n",
      "iteration 10000 / 200000: loss 1597.167252\n",
      "iteration 20000 / 200000: loss 1487.113621\n",
      "iteration 30000 / 200000: loss 1440.990709\n",
      "iteration 40000 / 200000: loss 1417.811269\n",
      "iteration 50000 / 200000: loss 1391.504646\n",
      "iteration 60000 / 200000: loss 1325.313098\n",
      "iteration 70000 / 200000: loss 1491.062523\n",
      "iteration 80000 / 200000: loss 1488.908711\n",
      "iteration 90000 / 200000: loss 1473.193459\n",
      "iteration 100000 / 200000: loss 1520.077644\n",
      "iteration 110000 / 200000: loss 1525.364734\n",
      "iteration 120000 / 200000: loss 1444.139781\n",
      "iteration 130000 / 200000: loss 1258.903449\n",
      "iteration 140000 / 200000: loss 1329.545745\n",
      "iteration 150000 / 200000: loss 1447.772623\n",
      "iteration 160000 / 200000: loss 1525.014201\n",
      "iteration 170000 / 200000: loss 1524.342257\n",
      "iteration 180000 / 200000: loss 1461.483184\n",
      "iteration 190000 / 200000: loss 1302.505875\n",
      "MSE scikit-learn: 2912.521795117546\n",
      "MSE Coordinate descent model : 2860.299454759736\n"
     ]
    }
   ],
   "source": [
    "model = LassoProjectedGradientDescent(alpha=0.1)\n",
    "model.train(X, y, learning_rate=1e-2,verbose=True, num_iters=200_000)\n",
    "pred = model.predict(X)\n",
    "mse= mean_squared_error(pred, y)\n",
    "\n",
    "sk_model = Lasso(alpha=0.1, fit_intercept=True)\n",
    "sk_model.fit(X, y)\n",
    "sk_pred = sk_model.predict(X)\n",
    "sk_mse = mean_squared_error(sk_pred, y)\n",
    "\n",
    "print(\"MSE scikit-learn:\", sk_mse)\n",
    "print(\"MSE Coordinate descent model :\", mse)\n",
    "assert mse - sk_mse < 50"
   ]
  },
  {
   "cell_type": "code",
   "execution_count": 14,
   "id": "ceb125d5",
   "metadata": {
    "deletable": false,
    "editable": false,
    "nbgrader": {
     "cell_type": "code",
     "checksum": "5302dfe9ed74a0adcd0f27c24ea15b6c",
     "grade": true,
     "grade_id": "cell-d4d95fe8b23988a9",
     "locked": true,
     "points": 3,
     "schema_version": 3,
     "solution": false,
     "task": false
    }
   },
   "outputs": [
    {
     "name": "stdout",
     "output_type": "stream",
     "text": [
      "iteration 0 / 200000: loss 13378.310039\n",
      "iteration 10000 / 200000: loss 1295.741053\n",
      "iteration 20000 / 200000: loss 1561.476330\n",
      "iteration 30000 / 200000: loss 1330.459293\n",
      "iteration 40000 / 200000: loss 1330.765235\n",
      "iteration 50000 / 200000: loss 1499.986134\n",
      "iteration 60000 / 200000: loss 1481.081293\n",
      "iteration 70000 / 200000: loss 1395.810184\n",
      "iteration 80000 / 200000: loss 1283.255696\n",
      "iteration 90000 / 200000: loss 1348.884619\n",
      "iteration 100000 / 200000: loss 1519.316045\n",
      "iteration 110000 / 200000: loss 1438.378284\n",
      "iteration 120000 / 200000: loss 1360.384265\n",
      "iteration 130000 / 200000: loss 1465.731064\n",
      "iteration 140000 / 200000: loss 1562.890857\n",
      "iteration 150000 / 200000: loss 1352.696134\n",
      "iteration 160000 / 200000: loss 1503.347190\n",
      "iteration 170000 / 200000: loss 1524.842182\n",
      "iteration 180000 / 200000: loss 1435.187928\n",
      "iteration 190000 / 200000: loss 1374.472346\n",
      "MSE scikit-learn: 5650.287416333697\n",
      "MSE Coordinate descent model : 2869.165712153681\n"
     ]
    }
   ],
   "source": [
    "model = LassoProjectedGradientDescent(alpha=2)\n",
    "model.train(X, y, learning_rate=1e-2,verbose=True, num_iters=200_000)\n",
    "pred = model.predict(X)\n",
    "mse= mean_squared_error(pred, y)\n",
    "\n",
    "sk_model = Lasso(alpha=2, fit_intercept=True)\n",
    "sk_model.fit(X, y)\n",
    "sk_pred = sk_model.predict(X)\n",
    "sk_mse = mean_squared_error(sk_pred, y)\n",
    "\n",
    "print(\"MSE scikit-learn:\", sk_mse)\n",
    "print(\"MSE Coordinate descent model :\", mse)\n",
    "assert mse - sk_mse < 50"
   ]
  },
  {
   "cell_type": "markdown",
   "id": "06403ea0",
   "metadata": {},
   "source": [
    "# Lasso Coordinate Descent (no intercept)"
   ]
  },
  {
   "cell_type": "code",
   "execution_count": 15,
   "id": "5039af1c",
   "metadata": {
    "deletable": false,
    "nbgrader": {
     "cell_type": "code",
     "checksum": "700961f62d0be50b4d8a56693d51d147",
     "grade": false,
     "grade_id": "cell-485e52c0efd4f4a9",
     "locked": false,
     "schema_version": 3,
     "solution": true,
     "task": false
    }
   },
   "outputs": [],
   "source": [
    "class LassoCoordinateDescent():\n",
    "    def __init__(self, alpha=0.1):\n",
    "        self.w = None\n",
    "        self.alpha = alpha\n",
    "\n",
    "    def train(self, X, y, num_iters=1000):\n",
    "        N, d = X.shape\n",
    "        \n",
    "        # YOUR CODE HERE\n",
    "        \"\"\"https://github.com/satopirka/Lasso/blob/master/coordinate_descent_lasso.py\"\"\"\n",
    "        beta = np.zeros(d)\n",
    "        \n",
    "        for i in range(num_iters):\n",
    "            for j in range(0,len(beta)):\n",
    "                tmp_beta = beta.copy()\n",
    "                tmp_beta[j] = 0.0\n",
    "               \n",
    "                arg1 = np.dot(X[:,j], y - np.dot(X,tmp_beta))\n",
    "                arg2 = self.alpha*N\n",
    "\n",
    "                beta[j] = soft_threshold(arg1,arg2)/(X[:,j]**2).sum()\n",
    "            \n",
    "        self.w = beta\n",
    "                \n",
    "    def predict(self, X): \n",
    "        # YOUR CODE HERE\n",
    "        return X.dot(self.w)\n"
   ]
  },
  {
   "cell_type": "code",
   "execution_count": 16,
   "id": "ccdee31b",
   "metadata": {
    "deletable": false,
    "editable": false,
    "nbgrader": {
     "cell_type": "code",
     "checksum": "980c457daa4b6be9e9ce771fa7acbb65",
     "grade": true,
     "grade_id": "cell-a773a38c72b967e8",
     "locked": true,
     "points": 3,
     "schema_version": 3,
     "solution": false,
     "task": false
    }
   },
   "outputs": [
    {
     "name": "stdout",
     "output_type": "stream",
     "text": [
      "MSE scikit-learn: 26057.118798659812\n",
      "MSE Coordinate descent model : 26057.116893252627\n"
     ]
    }
   ],
   "source": [
    "model = LassoCoordinateDescent(alpha=0.1)\n",
    "model.train(X, y)\n",
    "pred = model.predict(X)\n",
    "mse= mean_squared_error(pred, y)\n",
    "\n",
    "sk_model = Lasso(alpha=0.1, fit_intercept=False)\n",
    "sk_model.fit(X, y)\n",
    "sk_pred = sk_model.predict(X)\n",
    "sk_mse = mean_squared_error(sk_pred, y)\n",
    "\n",
    "print(\"MSE scikit-learn:\", sk_mse)\n",
    "print(\"MSE Coordinate descent model :\", mse)\n",
    "assert mse - sk_mse < 50"
   ]
  },
  {
   "cell_type": "code",
   "execution_count": 17,
   "id": "396f7431",
   "metadata": {
    "deletable": false,
    "editable": false,
    "nbgrader": {
     "cell_type": "code",
     "checksum": "af63575c6cf174f251d81ec478828cc3",
     "grade": true,
     "grade_id": "cell-df22a0ef3e94d5fe",
     "locked": true,
     "points": 3,
     "schema_version": 3,
     "solution": false,
     "task": false
    }
   },
   "outputs": [
    {
     "name": "stdout",
     "output_type": "stream",
     "text": [
      "MSE scikit-learn: 28794.88441987604\n",
      "MSE Coordinate descent model : 28794.885555399043\n"
     ]
    }
   ],
   "source": [
    "model = LassoCoordinateDescent(alpha=2)\n",
    "model.train(X, y)\n",
    "pred = model.predict(X)\n",
    "mse= mean_squared_error(pred, y)\n",
    "\n",
    "sk_model = Lasso(alpha=2, fit_intercept=False)\n",
    "sk_model.fit(X, y)\n",
    "sk_pred = sk_model.predict(X)\n",
    "sk_mse = mean_squared_error(sk_pred, y)\n",
    "\n",
    "print(\"MSE scikit-learn:\", sk_mse)\n",
    "print(\"MSE Coordinate descent model :\", mse)\n",
    "assert mse - sk_mse < 50"
   ]
  },
  {
   "cell_type": "code",
   "execution_count": null,
   "id": "620fabc3",
   "metadata": {},
   "outputs": [],
   "source": []
  }
 ],
 "metadata": {
  "kernelspec": {
   "display_name": "Python 3",
   "language": "python",
   "name": "python3"
  },
  "language_info": {
   "codemirror_mode": {
    "name": "ipython",
    "version": 3
   },
   "file_extension": ".py",
   "mimetype": "text/x-python",
   "name": "python",
   "nbconvert_exporter": "python",
   "pygments_lexer": "ipython3",
   "version": "3.8.8"
  }
 },
 "nbformat": 4,
 "nbformat_minor": 5
}
