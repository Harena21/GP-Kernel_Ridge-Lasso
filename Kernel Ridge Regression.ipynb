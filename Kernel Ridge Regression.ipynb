{
 "cells": [
  {
   "cell_type": "markdown",
   "id": "6cd6c980",
   "metadata": {},
   "source": [
    "Before you turn this problem in, make sure everything runs as expected. First, **restart the kernel** (in the menubar, select Kernel$\\rightarrow$Restart) and then **run all cells** (in the menubar, select Cell$\\rightarrow$Run All).\n",
    "\n",
    "Make sure you fill in any place that says `YOUR CODE HERE` or \"YOUR ANSWER HERE\", as well as your name and collaborators below:"
   ]
  },
  {
   "cell_type": "markdown",
   "id": "6f1ef985",
   "metadata": {},
   "source": [
    "---"
   ]
  },
  {
   "cell_type": "code",
   "execution_count": 12,
   "id": "a168402f",
   "metadata": {
    "deletable": false,
    "editable": false,
    "nbgrader": {
     "cell_type": "code",
     "checksum": "6f1bb38b8804b40f1f328f3741874f3f",
     "grade": false,
     "grade_id": "cell-b289fcb888d3f6bd",
     "locked": true,
     "schema_version": 3,
     "solution": false,
     "task": false
    }
   },
   "outputs": [],
   "source": [
    "from sklearn.datasets import load_diabetes\n",
    "import numpy as np\n",
    "from sklearn.kernel_ridge import KernelRidge\n",
    "\n",
    "def rel_error(x, y):\n",
    "  \"\"\" returns relative error \"\"\"\n",
    "  return np.max(np.abs(x - y) / (np.maximum(1e-8, np.abs(x) + np.abs(y))))\n",
    "\n",
    "data = load_diabetes()\n",
    "X_train, y_train = data.data, data.target"
   ]
  },
  {
   "cell_type": "code",
   "execution_count": 13,
   "id": "784f40e0",
   "metadata": {},
   "outputs": [],
   "source": [
    "from scipy.spatial import distance"
   ]
  },
  {
   "cell_type": "code",
   "execution_count": 23,
   "id": "5029b7c6",
   "metadata": {},
   "outputs": [],
   "source": [
    "def compute_kernel_matrix(x1,x2,kernel):\n",
    "    n1 = x1.shape[0]\n",
    "    n2 = x2.shape[0]\n",
    "    \n",
    "    K = np.zeros((n1,n2))\n",
    "    for i in range(n1):\n",
    "        for j in range(n2):\n",
    "            K[i][j] = kernel(x1[i],x2[j])\n",
    "    return K"
   ]
  },
  {
   "cell_type": "code",
   "execution_count": 24,
   "id": "f3efc9a0",
   "metadata": {
    "deletable": false,
    "nbgrader": {
     "cell_type": "code",
     "checksum": "72d710f13b316dae944616a03c487431",
     "grade": false,
     "grade_id": "cell-d36cbb79389907e8",
     "locked": false,
     "schema_version": 3,
     "solution": true,
     "task": false
    }
   },
   "outputs": [],
   "source": [
    "def gaussian_kernel(x1, x2, sigma=1.0):\n",
    "    # YOUR CODE HERE\n",
    "    return np.exp(-np.linalg.norm(x1-x2)**2/(2*sigma**2))\n",
    "\n",
    "class KernelRidgeRegression():\n",
    "    def __init__(self, kernel, lambd=1.0):\n",
    "        self.lambd = lambd # regularization coefficient\n",
    "        self.alpha = None # dual variable\n",
    "        self.kernel = kernel # kernel function\n",
    "    \n",
    "    def fit(self, X, y):\n",
    "        # YOUR CODE HERE\n",
    "        K = compute_kernel_matrix(X,X,self.kernel)\n",
    "        \n",
    "        self.alpha =np.dot(np.linalg.inv(K + self.lambd*np.eye(np.shape(K)[0])),y.transpose())\n",
    "            \n",
    "    def predict(self, X):\n",
    "        # YOUR CODE HERE\n",
    "        k = compute_kernel_matrix(X,X,self.kernel)\n",
    "        y= np.dot(k,self.alpha)\n",
    "            \n",
    "        return y.transpose()\n"
   ]
  },
  {
   "cell_type": "code",
   "execution_count": 25,
   "id": "fedf3a66",
   "metadata": {
    "deletable": false,
    "editable": false,
    "nbgrader": {
     "cell_type": "code",
     "checksum": "15200c6466ca6ae2f4960881722f387e",
     "grade": true,
     "grade_id": "cell-ec40f17b949370cd",
     "locked": true,
     "points": 5,
     "schema_version": 3,
     "solution": false,
     "task": false
    },
    "scrolled": false
   },
   "outputs": [
    {
     "name": "stdout",
     "output_type": "stream",
     "text": [
      "error:  5.960847022487688e-13\n",
      "prediction error:  0.0\n"
     ]
    }
   ],
   "source": [
    "kr = KernelRidgeRegression(kernel=gaussian_kernel)\n",
    "kr.fit(X_train,y_train)\n",
    "y_pred = kr.predict(X_train)\n",
    "\n",
    "sklearn_kr = KernelRidge(kernel=gaussian_kernel)\n",
    "sklearn_kr.fit(X_train,y_train)\n",
    "sklearn_y_pred = kr.predict(X_train)\n",
    "\n",
    "error = rel_error(kr.alpha, sklearn_kr.dual_coef_)\n",
    "print(\"error: \", error)\n",
    "assert error <= 1e-11\n",
    "\n",
    "error_pred = rel_error(y_pred, sklearn_y_pred)\n",
    "print(\"prediction error: \", error_pred)\n",
    "assert error <= 1e-11"
   ]
  },
  {
   "cell_type": "code",
   "execution_count": null,
   "id": "351cc7b2",
   "metadata": {},
   "outputs": [],
   "source": []
  }
 ],
 "metadata": {
  "kernelspec": {
   "display_name": "Python 3",
   "language": "python",
   "name": "python3"
  },
  "language_info": {
   "codemirror_mode": {
    "name": "ipython",
    "version": 3
   },
   "file_extension": ".py",
   "mimetype": "text/x-python",
   "name": "python",
   "nbconvert_exporter": "python",
   "pygments_lexer": "ipython3",
   "version": "3.8.8"
  }
 },
 "nbformat": 4,
 "nbformat_minor": 5
}
